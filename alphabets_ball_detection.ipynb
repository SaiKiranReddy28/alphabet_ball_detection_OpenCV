{
  "nbformat": 4,
  "nbformat_minor": 0,
  "metadata": {
    "colab": {
      "name": "alphabets ball_detection",
      "provenance": [],
      "collapsed_sections": []
    },
    "kernelspec": {
      "name": "python3",
      "display_name": "Python 3"
    },
    "language_info": {
      "name": "python"
    }
  },
  "cells": [
    {
      "cell_type": "code",
      "execution_count": 97,
      "metadata": {
        "id": "LE_vUC5d7r7I"
      },
      "outputs": [],
      "source": [
        "import pandas as pd\n",
        "import numpy as np\n",
        "import cv2\n",
        "from matplotlib import pyplot as plt"
      ]
    },
    {
      "cell_type": "code",
      "source": [
        "def crop_frames(video_path):\n",
        "  video=cv2.VideoCapture(video_path)\n",
        "  frame_array=[]\n",
        "  fps = video.get(cv2.CAP_PROP_FPS)\n",
        "  frame_count = int(video.get(cv2.CAP_PROP_FRAME_COUNT))\n",
        "  duration = frame_count/fps\n",
        "  _,img=video.read()\n",
        "  while(_):\n",
        "    if _ is None:\n",
        "      break\n",
        "    cropped_img=img[180:750,400:1380] # These neeeded to be changed manually based on video\n",
        "    frame_array.append(cropped_img)\n",
        "    _,img=video.read()\n",
        "  \n",
        "  return frame_array,fps,frame_count,duration"
      ],
      "metadata": {
        "id": "uJ8L1vQ877vL"
      },
      "execution_count": 98,
      "outputs": []
    },
    {
      "cell_type": "code",
      "source": [
        "def display_all_frames(frame_array):\n",
        "  for i in range(len(frame_array)):\n",
        "    plt.imshow(frame_array[i])\n",
        "    plt.show()"
      ],
      "metadata": {
        "id": "2l-0bDSJHU1M"
      },
      "execution_count": 99,
      "outputs": []
    },
    {
      "cell_type": "code",
      "source": [
        "def diff_btwn_adjacent_frames(frames_array):\n",
        "  diff_array=[]\n",
        "  dimensions=[]\n",
        "  for i in range(1,len(frames_array)):\n",
        "    frame1=frames_array[i-1].copy()\n",
        "    frame2=frames_array[i].copy()\n",
        "    diff=cv2.absdiff(frame1,frame2)\n",
        "    _,thresh=cv2.threshold(diff,140,250,cv2.THRESH_BINARY)\n",
        "    gray=cv2.cvtColor(thresh,cv2.COLOR_BGR2GRAY)\n",
        "    #ada_thresh=cv2.adaptiveThreshold(gray,255,cv2.ADAPTIVE_THRESH_GAUSSIAN_C,cv2.THRESH_BINARY_INV,11,2)\n",
        "    kernel=np.ones((2,2),np.uint8)\n",
        "    dilation=cv2.dilate(gray,kernel,2)\n",
        "    thresh=cv2.adaptiveThreshold(dilation,255,cv2.ADAPTIVE_THRESH_MEAN_C,cv2.THRESH_BINARY,11,2)\n",
        "    contours,hierarchy=cv2.findContours(thresh,cv2.RETR_TREE,cv2.CHAIN_APPROX_SIMPLE)\n",
        "    if(len(contours)>0):\n",
        "      for contour in contours:\n",
        "        area=cv2.contourArea(contour)\n",
        "        if area<200 or area>900:\n",
        "          continue\n",
        "        x,y,w,h=cv2.boundingRect(contour)\n",
        "        dimensions.append([x,y,w,h,i])\n",
        "        color=np.random.uniform((255,255,255))\n",
        "        frame2=cv2.rectangle(frame1,(x,y),(x+w,y+h),color,2)\n",
        "        diff_array.append(frame1)\n",
        "  return dimensions,diff_array"
      ],
      "metadata": {
        "id": "fIJz3fXL9PZ5"
      },
      "execution_count": 100,
      "outputs": []
    },
    {
      "cell_type": "code",
      "source": [
        "def recognize_bound_for_alphabets(image):\n",
        "  img=image.copy()\n",
        "  img_gray=cv2.cvtColor(img,cv2.COLOR_BGR2GRAY)\n",
        "  img_mean=cv2.adaptiveThreshold(img_gray,255,cv2.ADAPTIVE_THRESH_MEAN_C,cv2.THRESH_BINARY_INV,11,5)\n",
        "  sobelX=cv2.Sobel(img_mean,cv2.CV_64F,1,0)\n",
        "  sobelY=cv2.Sobel(img_mean,cv2.CV_64F,0,1)\n",
        "  sobelX=np.uint8(np.absolute(sobelX))\n",
        "  sobelY=np.uint8(np.absolute(sobelY))\n",
        "  sobelXY=cv2.bitwise_or(sobelX,sobelY)\n",
        "  contours,hierarchy=cv2.findContours(sobelXY,cv2.RETR_EXTERNAL,cv2.CHAIN_APPROX_SIMPLE)\n",
        "  if(len(contours)>0):\n",
        "    for contour in contours:\n",
        "      if cv2.contourArea(contour)<300:\n",
        "        continue\n",
        "      x,y,w,h=cv2.boundingRect(contour)\n",
        "      #print(x,y,w,h)\n",
        "      color=np.random.uniform((255,255,255))\n",
        "      cv2.drawContours(img,contour,-1,color,5)\n",
        "      #plt.imshow(img)\n",
        "      #plt.show()\n",
        "  #Note: These values are captured  from o/p of above images\n",
        "  #changes these values based on o/p obtained above\n",
        "  #values as x,y,w,h\n",
        "  dict={\n",
        "     \"A\":[83,69,282,217],\n",
        "     \"B\":[442,78,235,192],\n",
        "     \"C\":[734,84,201,177],\n",
        "     \"D\":[95,327,285,222],\n",
        "     \"E\":[452,323,235,199],\n",
        "     \"F\":[742,311,201,183],\n",
        "   }      \n",
        "  return dict"
      ],
      "metadata": {
        "id": "eBxPEtTg8vk_"
      },
      "execution_count": 101,
      "outputs": []
    },
    {
      "cell_type": "code",
      "source": [
        "def findinside(x1,y1,x2,y2,x,y):\n",
        "  if((x>x1 and x<x2) and (y>y1 and y<y2)):\n",
        "    return True\n",
        "  else:\n",
        "    return False"
      ],
      "metadata": {
        "id": "L2Ndy3pVB2in"
      },
      "execution_count": 106,
      "outputs": []
    },
    {
      "cell_type": "code",
      "source": [
        "def check_is_inside(dict,dimensions,fps):\n",
        "  output=set()\n",
        "  for a in dimensions:\n",
        "    frame_no=a[4]\n",
        "    x,y,w,h=a[0],a[1],a[2],a[3]\n",
        "    for k,b in dict.items():\n",
        "        if(findinside(b[0],b[1],(b[0]+b[2]),(b[1]+b[3]),x,y)):\n",
        "          output.add((frame_no//fps,k))\n",
        "          break\n",
        "  output=list(output)\n",
        "  #print(output)\n",
        "  output.sort(key=lambda x:x[0])\n",
        "  return output"
      ],
      "metadata": {
        "id": "1ijmnbcaDe8s"
      },
      "execution_count": 103,
      "outputs": []
    },
    {
      "cell_type": "code",
      "source": [
        "def main_function(video_path):\n",
        "  frame_array,fps,frame_count,duration=crop_frames(video_path)\n",
        "  dictionary=recognize_bound_for_alphabets(frame_array[0])\n",
        "  dimensions,differance_array=diff_btwn_adjacent_frames(frame_array)\n",
        "  #for x in dimensions:\n",
        "  #print(x)\n",
        "  #display_all_frames(differance_array)\n",
        "  output=check_is_inside(dictionary,dimensions,fps)\n",
        "  print(output)"
      ],
      "metadata": {
        "id": "nHAh-Fbg8gGQ"
      },
      "execution_count": 108,
      "outputs": []
    },
    {
      "cell_type": "code",
      "source": [
        "if __name__==\"__main__\":\n",
        "  videopath=\"/content/drive/MyDrive/datasets/assignmentVideo.mp4\"\n",
        "  main_function(videopath)"
      ],
      "metadata": {
        "colab": {
          "base_uri": "https://localhost:8080/"
        },
        "id": "eGbRssPiCjap",
        "outputId": "5a947902-551f-4544-f533-59ececae3448"
      },
      "execution_count": 109,
      "outputs": [
        {
          "output_type": "stream",
          "name": "stdout",
          "text": [
            "[(1.0, 'A'), (1.0, 'D'), (3.0, 'C'), (6.0, 'E'), (6.0, 'F'), (8.0, 'F')]\n"
          ]
        }
      ]
    },
    {
      "cell_type": "code",
      "source": [
        "def video_writer(frame_array,fps):\n",
        "  width=frame_array[1].shape[1]\n",
        "  height=frame_array[1].shape[0]\n",
        "  out = cv2.VideoWriter('diff.avi',cv2.VideoWriter_fourcc('M','J','P','G'), fps, (width,height))\n",
        "  for x in frame_array:\n",
        "    out.write(x)\n",
        "  out.release()\n",
        "  cv2.destroyAllWindows()"
      ],
      "metadata": {
        "id": "i7UhUXnVA0Ht"
      },
      "execution_count": null,
      "outputs": []
    },
    {
      "cell_type": "code",
      "source": [
        ""
      ],
      "metadata": {
        "id": "D818euq5HIJw"
      },
      "execution_count": null,
      "outputs": []
    }
  ]
}